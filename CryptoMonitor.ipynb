{
 "cells": [
  {
   "cell_type": "markdown",
   "id": "a3d6609d",
   "metadata": {},
   "source": [
    "# Get exchange info"
   ]
  },
  {
   "cell_type": "markdown",
   "id": "e75edddc",
   "metadata": {},
   "source": [
    "# Imports"
   ]
  },
  {
   "cell_type": "code",
   "execution_count": 1,
   "id": "1bdf25be",
   "metadata": {
    "scrolled": true
   },
   "outputs": [],
   "source": [
    "import monitor as mn\n",
    "import config_ocar\n",
    "import shared_Functions as sf"
   ]
  },
  {
   "cell_type": "markdown",
   "id": "4957d4c3",
   "metadata": {},
   "source": [
    "# All Assets\n",
    "The below function will return a list of all assets across all exchanges"
   ]
  },
  {
   "cell_type": "code",
   "execution_count": null,
   "id": "b71ef698",
   "metadata": {
    "scrolled": false
   },
   "outputs": [],
   "source": [
    "assets = mn.get_all_assets()\n",
    "sf.displayDataFrame(assets, True, False)"
   ]
  },
  {
   "cell_type": "markdown",
   "id": "7f74b5f7",
   "metadata": {},
   "source": [
    "# Single Assets\n",
    "The below function will take the list of all assets and condense each asset down until there is only 1 of each type"
   ]
  },
  {
   "cell_type": "code",
   "execution_count": 2,
   "id": "144d0b24",
   "metadata": {
    "scrolled": true
   },
   "outputs": [
    {
     "name": "stdout",
     "output_type": "stream",
     "text": [
      "pos:  -189953.29  ass:  263371.93\n",
      "calculated value:  36709.31999999999\n"
     ]
    },
    {
     "data": {
      "text/html": [
       "<div>\n",
       "<style scoped>\n",
       "    .dataframe tbody tr th:only-of-type {\n",
       "        vertical-align: middle;\n",
       "    }\n",
       "\n",
       "    .dataframe tbody tr th {\n",
       "        vertical-align: top;\n",
       "    }\n",
       "\n",
       "    .dataframe thead th {\n",
       "        text-align: right;\n",
       "    }\n",
       "</style>\n",
       "<table border=\"1\" class=\"dataframe\">\n",
       "  <thead>\n",
       "    <tr style=\"text-align: right;\">\n",
       "      <th></th>\n",
       "      <th>Coin</th>\n",
       "      <th>QTY</th>\n",
       "      <th>USD Value</th>\n",
       "    </tr>\n",
       "  </thead>\n",
       "  <tbody>\n",
       "    <tr>\n",
       "      <th>0</th>\n",
       "      <td>APE</td>\n",
       "      <td>-2.37399</td>\n",
       "      <td>-4.43000</td>\n",
       "    </tr>\n",
       "    <tr>\n",
       "      <th>1</th>\n",
       "      <td>ATOM</td>\n",
       "      <td>0.00000</td>\n",
       "      <td>-16.73000</td>\n",
       "    </tr>\n",
       "    <tr>\n",
       "      <th>2</th>\n",
       "      <td>AXS</td>\n",
       "      <td>2.57968</td>\n",
       "      <td>26.78000</td>\n",
       "    </tr>\n",
       "    <tr>\n",
       "      <th>3</th>\n",
       "      <td>BMEX</td>\n",
       "      <td>385.42687</td>\n",
       "      <td>315.66000</td>\n",
       "    </tr>\n",
       "    <tr>\n",
       "      <th>4</th>\n",
       "      <td>BNB</td>\n",
       "      <td>0.19693</td>\n",
       "      <td>59.36000</td>\n",
       "    </tr>\n",
       "    <tr>\n",
       "      <th>5</th>\n",
       "      <td>BSW</td>\n",
       "      <td>317.94004</td>\n",
       "      <td>65.59000</td>\n",
       "    </tr>\n",
       "    <tr>\n",
       "      <th>6</th>\n",
       "      <td>BTC</td>\n",
       "      <td>-0.01095</td>\n",
       "      <td>-415.81000</td>\n",
       "    </tr>\n",
       "    <tr>\n",
       "      <th>7</th>\n",
       "      <td>CREAM</td>\n",
       "      <td>-2.14148</td>\n",
       "      <td>148.54000</td>\n",
       "    </tr>\n",
       "    <tr>\n",
       "      <th>8</th>\n",
       "      <td>DOME</td>\n",
       "      <td>-25,512.39208</td>\n",
       "      <td>-68.37000</td>\n",
       "    </tr>\n",
       "    <tr>\n",
       "      <th>9</th>\n",
       "      <td>ETH</td>\n",
       "      <td>0.00172</td>\n",
       "      <td>2.80000</td>\n",
       "    </tr>\n",
       "    <tr>\n",
       "      <th>10</th>\n",
       "      <td>FITFI</td>\n",
       "      <td>-907.57715</td>\n",
       "      <td>187.39000</td>\n",
       "    </tr>\n",
       "    <tr>\n",
       "      <th>11</th>\n",
       "      <td>GLMR</td>\n",
       "      <td>0.26607</td>\n",
       "      <td>0.14000</td>\n",
       "    </tr>\n",
       "    <tr>\n",
       "      <th>12</th>\n",
       "      <td>HT</td>\n",
       "      <td>1.62437</td>\n",
       "      <td>8.25000</td>\n",
       "    </tr>\n",
       "    <tr>\n",
       "      <th>13</th>\n",
       "      <td>LINK</td>\n",
       "      <td>12.50442</td>\n",
       "      <td>86.27000</td>\n",
       "    </tr>\n",
       "    <tr>\n",
       "      <th>14</th>\n",
       "      <td>LOOKS</td>\n",
       "      <td>-91.52877</td>\n",
       "      <td>-76.75000</td>\n",
       "    </tr>\n",
       "    <tr>\n",
       "      <th>15</th>\n",
       "      <td>LUNA</td>\n",
       "      <td>4.60331</td>\n",
       "      <td>8.69000</td>\n",
       "    </tr>\n",
       "    <tr>\n",
       "      <th>16</th>\n",
       "      <td>MINA</td>\n",
       "      <td>0.00000</td>\n",
       "      <td>7.52000</td>\n",
       "    </tr>\n",
       "    <tr>\n",
       "      <th>17</th>\n",
       "      <td>OKB</td>\n",
       "      <td>0.00016</td>\n",
       "      <td>0.01000</td>\n",
       "    </tr>\n",
       "    <tr>\n",
       "      <th>18</th>\n",
       "      <td>ROSE</td>\n",
       "      <td>0.00000</td>\n",
       "      <td>0.02000</td>\n",
       "    </tr>\n",
       "    <tr>\n",
       "      <th>19</th>\n",
       "      <td>SC</td>\n",
       "      <td>207</td>\n",
       "      <td>0.88182</td>\n",
       "    </tr>\n",
       "    <tr>\n",
       "      <th>20</th>\n",
       "      <td>SKL</td>\n",
       "      <td>-400.00000</td>\n",
       "      <td>-22.10000</td>\n",
       "    </tr>\n",
       "  </tbody>\n",
       "</table>\n",
       "</div>"
      ],
      "text/plain": [
       "     Coin           QTY  USD Value\n",
       "0     APE      -2.37399   -4.43000\n",
       "1    ATOM       0.00000  -16.73000\n",
       "2     AXS       2.57968   26.78000\n",
       "3    BMEX     385.42687  315.66000\n",
       "4     BNB       0.19693   59.36000\n",
       "5     BSW     317.94004   65.59000\n",
       "6     BTC      -0.01095 -415.81000\n",
       "7   CREAM      -2.14148  148.54000\n",
       "8    DOME -25,512.39208  -68.37000\n",
       "9     ETH       0.00172    2.80000\n",
       "10  FITFI    -907.57715  187.39000\n",
       "11   GLMR       0.26607    0.14000\n",
       "12     HT       1.62437    8.25000\n",
       "13   LINK      12.50442   86.27000\n",
       "14  LOOKS     -91.52877  -76.75000\n",
       "15   LUNA       4.60331    8.69000\n",
       "16   MINA       0.00000    7.52000\n",
       "17    OKB       0.00016    0.01000\n",
       "18   ROSE       0.00000    0.02000\n",
       "19     SC           207    0.88182\n",
       "20    SKL    -400.00000  -22.10000"
      ]
     },
     "metadata": {},
     "output_type": "display_data"
    },
    {
     "data": {
      "text/html": [
       "<div>\n",
       "<style scoped>\n",
       "    .dataframe tbody tr th:only-of-type {\n",
       "        vertical-align: middle;\n",
       "    }\n",
       "\n",
       "    .dataframe tbody tr th {\n",
       "        vertical-align: top;\n",
       "    }\n",
       "\n",
       "    .dataframe thead th {\n",
       "        text-align: right;\n",
       "    }\n",
       "</style>\n",
       "<table border=\"1\" class=\"dataframe\">\n",
       "  <thead>\n",
       "    <tr style=\"text-align: right;\">\n",
       "      <th></th>\n",
       "      <th>Coin</th>\n",
       "      <th>QTY</th>\n",
       "      <th>USD Value</th>\n",
       "    </tr>\n",
       "  </thead>\n",
       "  <tbody>\n",
       "    <tr>\n",
       "      <th>0</th>\n",
       "      <td>BUSD</td>\n",
       "      <td>744.67697</td>\n",
       "      <td>744.45000</td>\n",
       "    </tr>\n",
       "    <tr>\n",
       "      <th>1</th>\n",
       "      <td>EUR</td>\n",
       "      <td>50,000.04569</td>\n",
       "      <td>53,430.27000</td>\n",
       "    </tr>\n",
       "    <tr>\n",
       "      <th>2</th>\n",
       "      <td>USD</td>\n",
       "      <td>0.12862</td>\n",
       "      <td>0.13000</td>\n",
       "    </tr>\n",
       "    <tr>\n",
       "      <th>3</th>\n",
       "      <td>USDC</td>\n",
       "      <td>385.68000</td>\n",
       "      <td>385.64000</td>\n",
       "    </tr>\n",
       "    <tr>\n",
       "      <th>4</th>\n",
       "      <td>USDT</td>\n",
       "      <td>103,612.69296</td>\n",
       "      <td>110,768.89000</td>\n",
       "    </tr>\n",
       "    <tr>\n",
       "      <th>5</th>\n",
       "      <td>ZUSD</td>\n",
       "      <td>873.47000</td>\n",
       "      <td>873.47000</td>\n",
       "    </tr>\n",
       "  </tbody>\n",
       "</table>\n",
       "</div>"
      ],
      "text/plain": [
       "   Coin           QTY     USD Value\n",
       "0  BUSD     744.67697     744.45000\n",
       "1   EUR  50,000.04569  53,430.27000\n",
       "2   USD       0.12862       0.13000\n",
       "3  USDC     385.68000     385.64000\n",
       "4  USDT 103,612.69296 110,768.89000\n",
       "5  ZUSD     873.47000     873.47000"
      ]
     },
     "metadata": {},
     "output_type": "display_data"
    }
   ],
   "source": [
    "value = mn.usdt_Value()\n",
    "sf.displayDataFrame(value[0], True, False)\n",
    "sf.displayDataFrame(value[1], True, False)"
   ]
  },
  {
   "cell_type": "markdown",
   "id": "c090ee1c",
   "metadata": {},
   "source": [
    "# Balances\n",
    "The below function will return a total balance across main accounts, total balance across sub accounts and total overall balance"
   ]
  },
  {
   "cell_type": "code",
   "execution_count": null,
   "id": "7bc7ae26",
   "metadata": {},
   "outputs": [],
   "source": [
    "balance = mn.get_total_balance()\n",
    "sf.displayDataFrame(balance, True, False)"
   ]
  },
  {
   "cell_type": "markdown",
   "id": "42733538",
   "metadata": {},
   "source": [
    "# Positions\n",
    "The below function will return a list of positions across exchanges including liq risk %"
   ]
  },
  {
   "cell_type": "code",
   "execution_count": null,
   "id": "28a2c318",
   "metadata": {
    "scrolled": false
   },
   "outputs": [],
   "source": [
    "positions = mn.get_all_positions()\n",
    "sf.displayDataFrame(positions, True, False)"
   ]
  },
  {
   "cell_type": "markdown",
   "id": "0a5e7b24",
   "metadata": {},
   "source": [
    "# Leverage\n",
    "The below function will return the leverage across all exchanges"
   ]
  },
  {
   "cell_type": "code",
   "execution_count": null,
   "id": "09b2bde1",
   "metadata": {
    "scrolled": false
   },
   "outputs": [],
   "source": [
    "leverage = mn.Leverage()\n",
    "sf.displayDataFrame(leverage, True, False)"
   ]
  },
  {
   "cell_type": "raw",
   "id": "c5c179f1",
   "metadata": {},
   "source": []
  }
 ],
 "metadata": {
  "kernelspec": {
   "display_name": "Python 3 (ipykernel)",
   "language": "python",
   "name": "python3"
  },
  "language_info": {
   "codemirror_mode": {
    "name": "ipython",
    "version": 3
   },
   "file_extension": ".py",
   "mimetype": "text/x-python",
   "name": "python",
   "nbconvert_exporter": "python",
   "pygments_lexer": "ipython3",
   "version": "3.9.13"
  }
 },
 "nbformat": 4,
 "nbformat_minor": 5
}
