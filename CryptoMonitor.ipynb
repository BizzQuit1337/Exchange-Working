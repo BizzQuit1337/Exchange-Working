{
 "cells": [
  {
   "cell_type": "markdown",
   "id": "a3d6609d",
   "metadata": {},
   "source": [
    "# Get exchange info"
   ]
  },
  {
   "cell_type": "markdown",
   "id": "e75edddc",
   "metadata": {},
   "source": [
    "# Imports"
   ]
  },
  {
   "cell_type": "code",
   "execution_count": null,
   "id": "1bdf25be",
   "metadata": {
    "scrolled": true
   },
   "outputs": [],
   "source": [
    "import monitor as mn\n",
    "import config_ocar\n",
    "import shared_Functions as sf"
   ]
  },
  {
   "cell_type": "markdown",
   "id": "4957d4c3",
   "metadata": {},
   "source": [
    "# All Assets\n",
    "The below function will return a list of all assets across all exchanges"
   ]
  },
  {
   "cell_type": "code",
   "execution_count": null,
   "id": "b71ef698",
   "metadata": {
    "scrolled": false
   },
   "outputs": [],
   "source": [
    "assets = mn.get_all_assets()\n",
    "sf.displayDataFrame(assets, True, False)"
   ]
  },
  {
   "cell_type": "markdown",
   "id": "7f74b5f7",
   "metadata": {},
   "source": [
    "# Single Assets\n",
    "The below function will take the list of all assets and condense each asset down until there is only 1 of each type"
   ]
  },
  {
   "cell_type": "code",
   "execution_count": null,
   "id": "144d0b24",
   "metadata": {
    "scrolled": true
   },
   "outputs": [],
   "source": [
    "value = mn.usdt_Value()\n",
    "sf.displayDataFrame(value[0], True, False)\n",
    "sf.displayDataFrame(value[1], True, False)"
   ]
  },
  {
   "cell_type": "markdown",
   "id": "c090ee1c",
   "metadata": {},
   "source": [
    "# Balances\n",
    "The below function will return a total balance across main accounts, total balance across sub accounts and total overall balance"
   ]
  },
  {
   "cell_type": "code",
   "execution_count": null,
   "id": "7bc7ae26",
   "metadata": {},
   "outputs": [],
   "source": [
    "balance = mn.get_total_balance()\n",
    "sf.displayDataFrame(balance, True, False)"
   ]
  },
  {
   "cell_type": "markdown",
   "id": "42733538",
   "metadata": {},
   "source": [
    "# Positions\n",
    "The below function will return a list of positions across exchanges including liq risk %"
   ]
  },
  {
   "cell_type": "code",
   "execution_count": null,
   "id": "28a2c318",
   "metadata": {
    "scrolled": false
   },
   "outputs": [],
   "source": [
    "positions = mn.get_all_positions()\n",
    "sf.displayDataFrame(positions, True, False)"
   ]
  },
  {
   "cell_type": "markdown",
   "id": "0a5e7b24",
   "metadata": {},
   "source": [
    "# Leverage\n",
    "The below function will return the leverage across all exchanges"
   ]
  },
  {
   "cell_type": "code",
   "execution_count": null,
   "id": "09b2bde1",
   "metadata": {
    "scrolled": false
   },
   "outputs": [],
   "source": [
    "leverage = mn.Leverage()\n",
    "sf.displayDataFrame(leverage, True, False)"
   ]
  },
  {
   "cell_type": "raw",
   "id": "c5c179f1",
   "metadata": {},
   "source": []
  }
 ],
 "metadata": {
  "kernelspec": {
   "display_name": "Python 3 (ipykernel)",
   "language": "python",
   "name": "python3"
  },
  "language_info": {
   "codemirror_mode": {
    "name": "ipython",
    "version": 3
   },
   "file_extension": ".py",
   "mimetype": "text/x-python",
   "name": "python",
   "nbconvert_exporter": "python",
   "pygments_lexer": "ipython3",
   "version": "3.9.13"
  }
 },
 "nbformat": 4,
 "nbformat_minor": 5
}
