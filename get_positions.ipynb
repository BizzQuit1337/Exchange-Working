{
 "cells": [
  {
   "cell_type": "markdown",
   "id": "eeeb8e83",
   "metadata": {},
   "source": [
    "# Get all positions"
   ]
  },
  {
   "cell_type": "markdown",
   "id": "6c557d7d",
   "metadata": {},
   "source": [
    "Import all the required modules to get all positions"
   ]
  },
  {
   "cell_type": "code",
   "execution_count": 1,
   "id": "7b2a8905",
   "metadata": {},
   "outputs": [],
   "source": [
    "import binancePositions, bitmexPostions, bybitPositions, gatePositions, huobiPositions, krakenPositions, okxPositions\n",
    "import config\n",
    "import pandas as pd\n",
    "import shared_Functions as sf"
   ]
  },
  {
   "cell_type": "markdown",
   "id": "71f11ca4",
   "metadata": {},
   "source": [
    "This is the function to collect and format all the positions"
   ]
  },
  {
   "cell_type": "code",
   "execution_count": 2,
   "id": "a03f42de",
   "metadata": {},
   "outputs": [],
   "source": [
    "def get_all_positions(api_key_binance, api_key_bitmex, api_key_bybit, api_key_gate, api_key_huobi, api_key_kraken, api_key_okx, api_secret_binance, api_secret_bitmex, api_secret_bybit, api_secret_gate, api_secret_huobi, api_secret_kraken, api_secret_okx, api_pass_okx):\n",
    "    positions = []\n",
    "    errorCount = 0\n",
    "    total_USD = 0\n",
    "    for i in [binancePositions.all_positions(api_key_binance, api_secret_binance, 'Binance'), bitmexPostions.get_usdt_pos(api_key_bitmex, api_secret_bitmex, 'Bitmex')['assets'], bybitPositions.get_usdt_pos(api_key_bybit, api_secret_bybit, 'Bybit')['assets'], gatePositions.get_usdt_pos(api_key_gate, api_secret_gate, 'Gate')['assets'], huobiPositions.get_all_positions(api_key_huobi, api_secret_huobi, 'Huobi'), krakenPositions.get_usdt_pos(api_key_kraken, api_secret_kraken, 'Kraken'), okxPositions.get_usdt_pos(api_key_okx, api_secret_okx, api_pass_okx, 'OKX')['assets']]:\n",
    "        if str(type(i)) == \"<class 'dict'>\":\n",
    "            total_USD += i['USD Value']\n",
    "            positions.append(i)\n",
    "        else:\n",
    "            for j in i:\n",
    "                if str(type(j)) == \"<class 'dict'>\":\n",
    "                    total_USD += j['USD Value']\n",
    "                    positions.append(j)\n",
    "                else:\n",
    "                    for k in j:\n",
    "                        if str(type(k)) == \"<class 'dict'>\":\n",
    "                            total_USD += k['USD Value']\n",
    "                            positions.append(k)\n",
    "                        else:\n",
    "                            errorCount += 1\n",
    "    return positions"
   ]
  },
  {
   "cell_type": "code",
   "execution_count": 3,
   "id": "85e0b6fe",
   "metadata": {
    "scrolled": true
   },
   "outputs": [
    {
     "name": "stdout",
     "output_type": "stream",
     "text": [
      "    Coin        Contract              QTY     USD Value Exchange Account  \\\n",
      "0    APE     APEUSD_PERP      -490.876796  -3040.000000  Binance  COIN-M   \n",
      "1    BTC  BTCUSDT_230331        -1.000000 -24045.260000  Binance  USDT-M   \n",
      "2   LUNC    1000LUNCUSDT -30000000.000000  -5200.020000  Binance  USDT-M   \n",
      "3  CREAM       CREAMUSDT     -3289.920000 -43173.620000    Bybit  USDT-M   \n",
      "4   GLMR        GLMRUSDT       -18.000000     -8.480000    Bybit  USDT-M   \n",
      "5    BTC         BTC-USD        -0.012592   -300.000000    Huobi  Coin-M   \n",
      "6   LUNC       LUNC-USDT  30000000.000000   5201.400000    Huobi  USDT-M   \n",
      "7   DOME  DOME-USDT-SWAP  -9000000.000000 -27900.000000      OKX  USDT-M   \n",
      "\n",
      "  Leverage      Mark Price           Liq Price  Liq Risk %  \n",
      "0        8      6.19300000          9.66810533    0.561134  \n",
      "1        5  24045.26025086      42267.62372426    0.757836  \n",
      "2        5      0.17333392          0.77778305    3.487195  \n",
      "3 7.150000       13.123000           28.238000    1.151795  \n",
      "4       10        0.471000         1999.998000 4245.280255  \n",
      "5       20    23824.900000       105887.787538    3.444417  \n",
      "6        3        0.000173                Null        Null  \n",
      "7        5          0.0031  0.0062172892576578    1.005577  \n"
     ]
    },
    {
     "data": {
      "text/plain": [
       "[{'Coin': 'APE',\n",
       "  'Contract': 'APEUSD_PERP',\n",
       "  'QTY': -490.876796,\n",
       "  'USD Value': -3040.0,\n",
       "  'Exchange': 'Binance',\n",
       "  'Account': 'COIN-M',\n",
       "  'Leverage': '8',\n",
       "  'Mark Price': '6.19300000',\n",
       "  'Liq Price': '9.66810533',\n",
       "  'Liq Risk %': 0.5611343985144518},\n",
       " {'Coin': 'BTC',\n",
       "  'Contract': 'BTCUSDT_230331',\n",
       "  'QTY': -1.0,\n",
       "  'USD Value': -24045.26,\n",
       "  'Exchange': 'Binance',\n",
       "  'Account': 'USDT-M',\n",
       "  'Leverage': '5',\n",
       "  'Mark Price': '24045.26025086',\n",
       "  'Liq Price': '42267.62372426',\n",
       "  'Liq Risk %': 0.7578359844430571},\n",
       " {'Coin': 'LUNC',\n",
       "  'Contract': '1000LUNCUSDT',\n",
       "  'QTY': -30000000.0,\n",
       "  'USD Value': -5200.02,\n",
       "  'Exchange': 'Binance',\n",
       "  'Account': 'USDT-M',\n",
       "  'Leverage': '5',\n",
       "  'Mark Price': '0.17333392',\n",
       "  'Liq Price': '0.77778305',\n",
       "  'Liq Risk %': 3.487194716417883},\n",
       " {'Coin': 'CREAM',\n",
       "  'Contract': 'CREAMUSDT',\n",
       "  'QTY': -3289.92,\n",
       "  'USD Value': -43173.62,\n",
       "  'Exchange': 'Bybit',\n",
       "  'Account': 'USDT-M',\n",
       "  'Leverage': 7.15,\n",
       "  'Mark Price': 13.123,\n",
       "  'Liq Price': 28.238,\n",
       "  'Liq Risk %': 1.1517945591709213},\n",
       " {'Coin': 'GLMR',\n",
       "  'Contract': 'GLMRUSDT',\n",
       "  'QTY': -18.0,\n",
       "  'USD Value': -8.48,\n",
       "  'Exchange': 'Bybit',\n",
       "  'Account': 'USDT-M',\n",
       "  'Leverage': 10,\n",
       "  'Mark Price': 0.471,\n",
       "  'Liq Price': 1999.998,\n",
       "  'Liq Risk %': 4245.280254777071},\n",
       " {'Coin': 'BTC',\n",
       "  'Contract': 'BTC-USD',\n",
       "  'QTY': -0.012592,\n",
       "  'USD Value': -300.0,\n",
       "  'Exchange': 'Huobi',\n",
       "  'Account': 'Coin-M',\n",
       "  'Leverage': 20,\n",
       "  'Mark Price': 23824.9,\n",
       "  'Liq Price': 105887.78753750375,\n",
       "  'Liq Risk %': 3.4444168721591173},\n",
       " {'Coin': 'LUNC',\n",
       "  'Contract': 'LUNC-USDT',\n",
       "  'QTY': 30000000.0,\n",
       "  'USD Value': 5201.4,\n",
       "  'Exchange': 'Huobi',\n",
       "  'Account': 'USDT-M',\n",
       "  'Leverage': 3,\n",
       "  'Mark Price': 0.00017338,\n",
       "  'Liq Price': 'Null',\n",
       "  'Liq Risk %': 'Null'},\n",
       " {'Coin': 'DOME',\n",
       "  'Contract': 'DOME-USDT-SWAP',\n",
       "  'QTY': -9000000.0,\n",
       "  'USD Value': -27900.0,\n",
       "  'Exchange': 'OKX',\n",
       "  'Account': 'USDT-M',\n",
       "  'Leverage': '5',\n",
       "  'Mark Price': '0.0031',\n",
       "  'Liq Price': '0.0062172892576578',\n",
       "  'Liq Risk %': 1.005577179889613}]"
      ]
     },
     "execution_count": 3,
     "metadata": {},
     "output_type": "execute_result"
    }
   ],
   "source": [
    "df = get_all_positions(config.binance_key, config.bitmex_key, config.bybit_key, config.gate_key, config.huobi_key, config.kraken_futures_key, config.okx_key, config.binance_secret, config.bitmex_secret, config.bybit_secret, config.gate_secret, config.huobi_secret, config.kraken_futures_secret, config.okx_secret, config.okx_passphrase)\n",
    "sf.displayDataFrame(df, True)"
   ]
  }
 ],
 "metadata": {
  "kernelspec": {
   "display_name": "Python 3 (ipykernel)",
   "language": "python",
   "name": "python3"
  },
  "language_info": {
   "codemirror_mode": {
    "name": "ipython",
    "version": 3
   },
   "file_extension": ".py",
   "mimetype": "text/x-python",
   "name": "python",
   "nbconvert_exporter": "python",
   "pygments_lexer": "ipython3",
   "version": "3.9.16"
  }
 },
 "nbformat": 4,
 "nbformat_minor": 5
}
