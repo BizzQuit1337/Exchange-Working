{
 "cells": [
  {
   "cell_type": "markdown",
   "id": "eeeb8e83",
   "metadata": {},
   "source": [
    "# Get all "
   ]
  },
  {
   "cell_type": "markdown",
   "id": "6c557d7d",
   "metadata": {},
   "source": [
    "Import all the required modules to get all positions"
   ]
  },
  {
   "cell_type": "code",
   "execution_count": 1,
   "id": "7b2a8905",
   "metadata": {},
   "outputs": [
    {
     "ename": "KeyboardInterrupt",
     "evalue": "",
     "output_type": "error",
     "traceback": [
      "\u001b[1;31m---------------------------------------------------------------------------\u001b[0m",
      "\u001b[1;31mKeyboardInterrupt\u001b[0m                         Traceback (most recent call last)",
      "Cell \u001b[1;32mIn[1], line 1\u001b[0m\n\u001b[1;32m----> 1\u001b[0m \u001b[38;5;28;01mimport\u001b[39;00m \u001b[38;5;21;01mbinancePositions\u001b[39;00m\u001b[38;5;241m,\u001b[39m \u001b[38;5;21;01mbitmexPostions\u001b[39;00m\u001b[38;5;241m,\u001b[39m \u001b[38;5;21;01mbybitPositions\u001b[39;00m\u001b[38;5;241m,\u001b[39m \u001b[38;5;21;01mgatePositions\u001b[39;00m\u001b[38;5;241m,\u001b[39m \u001b[38;5;21;01mhuobiPositions\u001b[39;00m\u001b[38;5;241m,\u001b[39m \u001b[38;5;21;01mkrakenPositions\u001b[39;00m\u001b[38;5;241m,\u001b[39m \u001b[38;5;21;01mokxPositions\u001b[39;00m\n\u001b[0;32m      2\u001b[0m \u001b[38;5;28;01mimport\u001b[39;00m \u001b[38;5;21;01mconfig\u001b[39;00m\n\u001b[0;32m      3\u001b[0m \u001b[38;5;28;01mimport\u001b[39;00m \u001b[38;5;21;01mpandas\u001b[39;00m \u001b[38;5;28;01mas\u001b[39;00m \u001b[38;5;21;01mpd\u001b[39;00m\n",
      "File \u001b[1;32m~\\notebooks\\binancePositions.py:1\u001b[0m\n\u001b[1;32m----> 1\u001b[0m \u001b[38;5;28;01mimport\u001b[39;00m \u001b[38;5;21;01mbinance_PnL\u001b[39;00m \u001b[38;5;28;01mas\u001b[39;00m \u001b[38;5;21;01mbp\u001b[39;00m\n\u001b[0;32m      2\u001b[0m \u001b[38;5;28;01mimport\u001b[39;00m \u001b[38;5;21;01mshared_Functions\u001b[39;00m \u001b[38;5;28;01mas\u001b[39;00m \u001b[38;5;21;01msf\u001b[39;00m\n\u001b[0;32m      3\u001b[0m \u001b[38;5;28;01mimport\u001b[39;00m \u001b[38;5;21;01mconfig\u001b[39;00m \n",
      "File \u001b[1;32m~\\notebooks\\binance_PnL.py:3\u001b[0m\n\u001b[0;32m      1\u001b[0m \u001b[38;5;28;01mimport\u001b[39;00m \u001b[38;5;21;01mrequests\u001b[39;00m\n\u001b[0;32m      2\u001b[0m \u001b[38;5;28;01mfrom\u001b[39;00m \u001b[38;5;21;01murllib\u001b[39;00m\u001b[38;5;21;01m.\u001b[39;00m\u001b[38;5;21;01mparse\u001b[39;00m \u001b[38;5;28;01mimport\u001b[39;00m urlencode\n\u001b[1;32m----> 3\u001b[0m \u001b[38;5;28;01mimport\u001b[39;00m \u001b[38;5;21;01mpandas\u001b[39;00m \u001b[38;5;28;01mas\u001b[39;00m \u001b[38;5;21;01mpd\u001b[39;00m\n\u001b[0;32m      4\u001b[0m \u001b[38;5;28;01mimport\u001b[39;00m \u001b[38;5;21;01mtime\u001b[39;00m\n\u001b[0;32m      5\u001b[0m \u001b[38;5;28;01mimport\u001b[39;00m \u001b[38;5;21;01mhmac\u001b[39;00m\n",
      "File \u001b[1;32mC:\\ProgramData\\Anaconda3\\envs\\Test\\lib\\site-packages\\pandas\\__init__.py:48\u001b[0m\n\u001b[0;32m     45\u001b[0m \u001b[38;5;66;03m# let init-time option registration happen\u001b[39;00m\n\u001b[0;32m     46\u001b[0m \u001b[38;5;28;01mimport\u001b[39;00m \u001b[38;5;21;01mpandas\u001b[39;00m\u001b[38;5;21;01m.\u001b[39;00m\u001b[38;5;21;01mcore\u001b[39;00m\u001b[38;5;21;01m.\u001b[39;00m\u001b[38;5;21;01mconfig_init\u001b[39;00m  \u001b[38;5;66;03m# pyright: ignore # noqa:F401\u001b[39;00m\n\u001b[1;32m---> 48\u001b[0m \u001b[38;5;28;01mfrom\u001b[39;00m \u001b[38;5;21;01mpandas\u001b[39;00m\u001b[38;5;21;01m.\u001b[39;00m\u001b[38;5;21;01mcore\u001b[39;00m\u001b[38;5;21;01m.\u001b[39;00m\u001b[38;5;21;01mapi\u001b[39;00m \u001b[38;5;28;01mimport\u001b[39;00m (\n\u001b[0;32m     49\u001b[0m     \u001b[38;5;66;03m# dtype\u001b[39;00m\n\u001b[0;32m     50\u001b[0m     ArrowDtype,\n\u001b[0;32m     51\u001b[0m     Int8Dtype,\n\u001b[0;32m     52\u001b[0m     Int16Dtype,\n\u001b[0;32m     53\u001b[0m     Int32Dtype,\n\u001b[0;32m     54\u001b[0m     Int64Dtype,\n\u001b[0;32m     55\u001b[0m     UInt8Dtype,\n\u001b[0;32m     56\u001b[0m     UInt16Dtype,\n\u001b[0;32m     57\u001b[0m     UInt32Dtype,\n\u001b[0;32m     58\u001b[0m     UInt64Dtype,\n\u001b[0;32m     59\u001b[0m     Float32Dtype,\n\u001b[0;32m     60\u001b[0m     Float64Dtype,\n\u001b[0;32m     61\u001b[0m     CategoricalDtype,\n\u001b[0;32m     62\u001b[0m     PeriodDtype,\n\u001b[0;32m     63\u001b[0m     IntervalDtype,\n\u001b[0;32m     64\u001b[0m     DatetimeTZDtype,\n\u001b[0;32m     65\u001b[0m     StringDtype,\n\u001b[0;32m     66\u001b[0m     BooleanDtype,\n\u001b[0;32m     67\u001b[0m     \u001b[38;5;66;03m# missing\u001b[39;00m\n\u001b[0;32m     68\u001b[0m     NA,\n\u001b[0;32m     69\u001b[0m     isna,\n\u001b[0;32m     70\u001b[0m     isnull,\n\u001b[0;32m     71\u001b[0m     notna,\n\u001b[0;32m     72\u001b[0m     notnull,\n\u001b[0;32m     73\u001b[0m     \u001b[38;5;66;03m# indexes\u001b[39;00m\n\u001b[0;32m     74\u001b[0m     Index,\n\u001b[0;32m     75\u001b[0m     CategoricalIndex,\n\u001b[0;32m     76\u001b[0m     RangeIndex,\n\u001b[0;32m     77\u001b[0m     MultiIndex,\n\u001b[0;32m     78\u001b[0m     IntervalIndex,\n\u001b[0;32m     79\u001b[0m     TimedeltaIndex,\n\u001b[0;32m     80\u001b[0m     DatetimeIndex,\n\u001b[0;32m     81\u001b[0m     PeriodIndex,\n\u001b[0;32m     82\u001b[0m     IndexSlice,\n\u001b[0;32m     83\u001b[0m     \u001b[38;5;66;03m# tseries\u001b[39;00m\n\u001b[0;32m     84\u001b[0m     NaT,\n\u001b[0;32m     85\u001b[0m     Period,\n\u001b[0;32m     86\u001b[0m     period_range,\n\u001b[0;32m     87\u001b[0m     Timedelta,\n\u001b[0;32m     88\u001b[0m     timedelta_range,\n\u001b[0;32m     89\u001b[0m     Timestamp,\n\u001b[0;32m     90\u001b[0m     date_range,\n\u001b[0;32m     91\u001b[0m     bdate_range,\n\u001b[0;32m     92\u001b[0m     Interval,\n\u001b[0;32m     93\u001b[0m     interval_range,\n\u001b[0;32m     94\u001b[0m     DateOffset,\n\u001b[0;32m     95\u001b[0m     \u001b[38;5;66;03m# conversion\u001b[39;00m\n\u001b[0;32m     96\u001b[0m     to_numeric,\n\u001b[0;32m     97\u001b[0m     to_datetime,\n\u001b[0;32m     98\u001b[0m     to_timedelta,\n\u001b[0;32m     99\u001b[0m     \u001b[38;5;66;03m# misc\u001b[39;00m\n\u001b[0;32m    100\u001b[0m     Flags,\n\u001b[0;32m    101\u001b[0m     Grouper,\n\u001b[0;32m    102\u001b[0m     factorize,\n\u001b[0;32m    103\u001b[0m     unique,\n\u001b[0;32m    104\u001b[0m     value_counts,\n\u001b[0;32m    105\u001b[0m     NamedAgg,\n\u001b[0;32m    106\u001b[0m     array,\n\u001b[0;32m    107\u001b[0m     Categorical,\n\u001b[0;32m    108\u001b[0m     set_eng_float_format,\n\u001b[0;32m    109\u001b[0m     Series,\n\u001b[0;32m    110\u001b[0m     DataFrame,\n\u001b[0;32m    111\u001b[0m )\n\u001b[0;32m    113\u001b[0m \u001b[38;5;28;01mfrom\u001b[39;00m \u001b[38;5;21;01mpandas\u001b[39;00m\u001b[38;5;21;01m.\u001b[39;00m\u001b[38;5;21;01mcore\u001b[39;00m\u001b[38;5;21;01m.\u001b[39;00m\u001b[38;5;21;01marrays\u001b[39;00m\u001b[38;5;21;01m.\u001b[39;00m\u001b[38;5;21;01msparse\u001b[39;00m \u001b[38;5;28;01mimport\u001b[39;00m SparseDtype\n\u001b[0;32m    115\u001b[0m \u001b[38;5;28;01mfrom\u001b[39;00m \u001b[38;5;21;01mpandas\u001b[39;00m\u001b[38;5;21;01m.\u001b[39;00m\u001b[38;5;21;01mtseries\u001b[39;00m\u001b[38;5;21;01m.\u001b[39;00m\u001b[38;5;21;01mapi\u001b[39;00m \u001b[38;5;28;01mimport\u001b[39;00m infer_freq\n",
      "File \u001b[1;32mC:\\ProgramData\\Anaconda3\\envs\\Test\\lib\\site-packages\\pandas\\core\\api.py:47\u001b[0m\n\u001b[0;32m     45\u001b[0m \u001b[38;5;28;01mfrom\u001b[39;00m \u001b[38;5;21;01mpandas\u001b[39;00m\u001b[38;5;21;01m.\u001b[39;00m\u001b[38;5;21;01mcore\u001b[39;00m\u001b[38;5;21;01m.\u001b[39;00m\u001b[38;5;21;01mconstruction\u001b[39;00m \u001b[38;5;28;01mimport\u001b[39;00m array\n\u001b[0;32m     46\u001b[0m \u001b[38;5;28;01mfrom\u001b[39;00m \u001b[38;5;21;01mpandas\u001b[39;00m\u001b[38;5;21;01m.\u001b[39;00m\u001b[38;5;21;01mcore\u001b[39;00m\u001b[38;5;21;01m.\u001b[39;00m\u001b[38;5;21;01mflags\u001b[39;00m \u001b[38;5;28;01mimport\u001b[39;00m Flags\n\u001b[1;32m---> 47\u001b[0m \u001b[38;5;28;01mfrom\u001b[39;00m \u001b[38;5;21;01mpandas\u001b[39;00m\u001b[38;5;21;01m.\u001b[39;00m\u001b[38;5;21;01mcore\u001b[39;00m\u001b[38;5;21;01m.\u001b[39;00m\u001b[38;5;21;01mgroupby\u001b[39;00m \u001b[38;5;28;01mimport\u001b[39;00m (\n\u001b[0;32m     48\u001b[0m     Grouper,\n\u001b[0;32m     49\u001b[0m     NamedAgg,\n\u001b[0;32m     50\u001b[0m )\n\u001b[0;32m     51\u001b[0m \u001b[38;5;28;01mfrom\u001b[39;00m \u001b[38;5;21;01mpandas\u001b[39;00m\u001b[38;5;21;01m.\u001b[39;00m\u001b[38;5;21;01mcore\u001b[39;00m\u001b[38;5;21;01m.\u001b[39;00m\u001b[38;5;21;01mindexes\u001b[39;00m\u001b[38;5;21;01m.\u001b[39;00m\u001b[38;5;21;01mapi\u001b[39;00m \u001b[38;5;28;01mimport\u001b[39;00m (\n\u001b[0;32m     52\u001b[0m     CategoricalIndex,\n\u001b[0;32m     53\u001b[0m     DatetimeIndex,\n\u001b[1;32m   (...)\u001b[0m\n\u001b[0;32m     63\u001b[0m     UInt64Index,\n\u001b[0;32m     64\u001b[0m )\n\u001b[0;32m     65\u001b[0m \u001b[38;5;28;01mfrom\u001b[39;00m \u001b[38;5;21;01mpandas\u001b[39;00m\u001b[38;5;21;01m.\u001b[39;00m\u001b[38;5;21;01mcore\u001b[39;00m\u001b[38;5;21;01m.\u001b[39;00m\u001b[38;5;21;01mindexes\u001b[39;00m\u001b[38;5;21;01m.\u001b[39;00m\u001b[38;5;21;01mdatetimes\u001b[39;00m \u001b[38;5;28;01mimport\u001b[39;00m (\n\u001b[0;32m     66\u001b[0m     bdate_range,\n\u001b[0;32m     67\u001b[0m     date_range,\n\u001b[0;32m     68\u001b[0m )\n",
      "File \u001b[1;32mC:\\ProgramData\\Anaconda3\\envs\\Test\\lib\\site-packages\\pandas\\core\\groupby\\__init__.py:1\u001b[0m\n\u001b[1;32m----> 1\u001b[0m \u001b[38;5;28;01mfrom\u001b[39;00m \u001b[38;5;21;01mpandas\u001b[39;00m\u001b[38;5;21;01m.\u001b[39;00m\u001b[38;5;21;01mcore\u001b[39;00m\u001b[38;5;21;01m.\u001b[39;00m\u001b[38;5;21;01mgroupby\u001b[39;00m\u001b[38;5;21;01m.\u001b[39;00m\u001b[38;5;21;01mgeneric\u001b[39;00m \u001b[38;5;28;01mimport\u001b[39;00m (\n\u001b[0;32m      2\u001b[0m     DataFrameGroupBy,\n\u001b[0;32m      3\u001b[0m     NamedAgg,\n\u001b[0;32m      4\u001b[0m     SeriesGroupBy,\n\u001b[0;32m      5\u001b[0m )\n\u001b[0;32m      6\u001b[0m \u001b[38;5;28;01mfrom\u001b[39;00m \u001b[38;5;21;01mpandas\u001b[39;00m\u001b[38;5;21;01m.\u001b[39;00m\u001b[38;5;21;01mcore\u001b[39;00m\u001b[38;5;21;01m.\u001b[39;00m\u001b[38;5;21;01mgroupby\u001b[39;00m\u001b[38;5;21;01m.\u001b[39;00m\u001b[38;5;21;01mgroupby\u001b[39;00m \u001b[38;5;28;01mimport\u001b[39;00m GroupBy\n\u001b[0;32m      7\u001b[0m \u001b[38;5;28;01mfrom\u001b[39;00m \u001b[38;5;21;01mpandas\u001b[39;00m\u001b[38;5;21;01m.\u001b[39;00m\u001b[38;5;21;01mcore\u001b[39;00m\u001b[38;5;21;01m.\u001b[39;00m\u001b[38;5;21;01mgroupby\u001b[39;00m\u001b[38;5;21;01m.\u001b[39;00m\u001b[38;5;21;01mgrouper\u001b[39;00m \u001b[38;5;28;01mimport\u001b[39;00m Grouper\n",
      "File \u001b[1;32mC:\\ProgramData\\Anaconda3\\envs\\Test\\lib\\site-packages\\pandas\\core\\groupby\\generic.py:78\u001b[0m\n\u001b[0;32m     76\u001b[0m \u001b[38;5;28;01mfrom\u001b[39;00m \u001b[38;5;21;01mpandas\u001b[39;00m\u001b[38;5;21;01m.\u001b[39;00m\u001b[38;5;21;01mcore\u001b[39;00m\u001b[38;5;21;01m.\u001b[39;00m\u001b[38;5;21;01mframe\u001b[39;00m \u001b[38;5;28;01mimport\u001b[39;00m DataFrame\n\u001b[0;32m     77\u001b[0m \u001b[38;5;28;01mfrom\u001b[39;00m \u001b[38;5;21;01mpandas\u001b[39;00m\u001b[38;5;21;01m.\u001b[39;00m\u001b[38;5;21;01mcore\u001b[39;00m\u001b[38;5;21;01m.\u001b[39;00m\u001b[38;5;21;01mgroupby\u001b[39;00m \u001b[38;5;28;01mimport\u001b[39;00m base\n\u001b[1;32m---> 78\u001b[0m \u001b[38;5;28;01mfrom\u001b[39;00m \u001b[38;5;21;01mpandas\u001b[39;00m\u001b[38;5;21;01m.\u001b[39;00m\u001b[38;5;21;01mcore\u001b[39;00m\u001b[38;5;21;01m.\u001b[39;00m\u001b[38;5;21;01mgroupby\u001b[39;00m\u001b[38;5;21;01m.\u001b[39;00m\u001b[38;5;21;01mgroupby\u001b[39;00m \u001b[38;5;28;01mimport\u001b[39;00m (\n\u001b[0;32m     79\u001b[0m     GroupBy,\n\u001b[0;32m     80\u001b[0m     _agg_template,\n\u001b[0;32m     81\u001b[0m     _apply_docs,\n\u001b[0;32m     82\u001b[0m     _transform_template,\n\u001b[0;32m     83\u001b[0m     warn_dropping_nuisance_columns_deprecated,\n\u001b[0;32m     84\u001b[0m )\n\u001b[0;32m     85\u001b[0m \u001b[38;5;28;01mfrom\u001b[39;00m \u001b[38;5;21;01mpandas\u001b[39;00m\u001b[38;5;21;01m.\u001b[39;00m\u001b[38;5;21;01mcore\u001b[39;00m\u001b[38;5;21;01m.\u001b[39;00m\u001b[38;5;21;01mgroupby\u001b[39;00m\u001b[38;5;21;01m.\u001b[39;00m\u001b[38;5;21;01mgrouper\u001b[39;00m \u001b[38;5;28;01mimport\u001b[39;00m get_grouper\n\u001b[0;32m     86\u001b[0m \u001b[38;5;28;01mfrom\u001b[39;00m \u001b[38;5;21;01mpandas\u001b[39;00m\u001b[38;5;21;01m.\u001b[39;00m\u001b[38;5;21;01mcore\u001b[39;00m\u001b[38;5;21;01m.\u001b[39;00m\u001b[38;5;21;01mindexes\u001b[39;00m\u001b[38;5;21;01m.\u001b[39;00m\u001b[38;5;21;01mapi\u001b[39;00m \u001b[38;5;28;01mimport\u001b[39;00m (\n\u001b[0;32m     87\u001b[0m     Index,\n\u001b[0;32m     88\u001b[0m     MultiIndex,\n\u001b[0;32m     89\u001b[0m     all_indexes_same,\n\u001b[0;32m     90\u001b[0m )\n",
      "File \u001b[1;32mC:\\ProgramData\\Anaconda3\\envs\\Test\\lib\\site-packages\\pandas\\core\\groupby\\groupby.py:48\u001b[0m\n\u001b[0;32m     42\u001b[0m \u001b[38;5;28;01mfrom\u001b[39;00m \u001b[38;5;21;01mpandas\u001b[39;00m\u001b[38;5;21;01m.\u001b[39;00m\u001b[38;5;21;01m_config\u001b[39;00m\u001b[38;5;21;01m.\u001b[39;00m\u001b[38;5;21;01mconfig\u001b[39;00m \u001b[38;5;28;01mimport\u001b[39;00m option_context\n\u001b[0;32m     44\u001b[0m \u001b[38;5;28;01mfrom\u001b[39;00m \u001b[38;5;21;01mpandas\u001b[39;00m\u001b[38;5;21;01m.\u001b[39;00m\u001b[38;5;21;01m_libs\u001b[39;00m \u001b[38;5;28;01mimport\u001b[39;00m (\n\u001b[0;32m     45\u001b[0m     Timestamp,\n\u001b[0;32m     46\u001b[0m     lib,\n\u001b[0;32m     47\u001b[0m )\n\u001b[1;32m---> 48\u001b[0m \u001b[38;5;28;01mimport\u001b[39;00m \u001b[38;5;21;01mpandas\u001b[39;00m\u001b[38;5;21;01m.\u001b[39;00m\u001b[38;5;21;01m_libs\u001b[39;00m\u001b[38;5;21;01m.\u001b[39;00m\u001b[38;5;21;01mgroupby\u001b[39;00m \u001b[38;5;28;01mas\u001b[39;00m \u001b[38;5;21;01mlibgroupby\u001b[39;00m\n\u001b[0;32m     49\u001b[0m \u001b[38;5;28;01mfrom\u001b[39;00m \u001b[38;5;21;01mpandas\u001b[39;00m\u001b[38;5;21;01m.\u001b[39;00m\u001b[38;5;21;01m_typing\u001b[39;00m \u001b[38;5;28;01mimport\u001b[39;00m (\n\u001b[0;32m     50\u001b[0m     ArrayLike,\n\u001b[0;32m     51\u001b[0m     IndexLabel,\n\u001b[1;32m   (...)\u001b[0m\n\u001b[0;32m     57\u001b[0m     npt,\n\u001b[0;32m     58\u001b[0m )\n\u001b[0;32m     59\u001b[0m \u001b[38;5;28;01mfrom\u001b[39;00m \u001b[38;5;21;01mpandas\u001b[39;00m\u001b[38;5;21;01m.\u001b[39;00m\u001b[38;5;21;01mcompat\u001b[39;00m\u001b[38;5;21;01m.\u001b[39;00m\u001b[38;5;21;01mnumpy\u001b[39;00m \u001b[38;5;28;01mimport\u001b[39;00m function \u001b[38;5;28;01mas\u001b[39;00m nv\n",
      "File \u001b[1;32m<frozen importlib._bootstrap>:398\u001b[0m, in \u001b[0;36mparent\u001b[1;34m(self)\u001b[0m\n",
      "\u001b[1;31mKeyboardInterrupt\u001b[0m: "
     ]
    }
   ],
   "source": [
    "import binancePositions, bitmexPostions, bybitPositions, gatePositions, huobiPositions, krakenPositions, okxPositions\n",
    "import config\n",
    "import pandas as pd\n",
    "import shared_Functions as sf\n",
    "import all_balances as ab\n",
    "import all_positions as ap\n",
    "import totalBalance_Binance, totalBalance_Kraken, totalBalance_OKX, totalBalance_Huobi, totalBalance_Bitmex, totalBalance_Gate, totalBalance_Bittrex, totalBalance_Bybit"
   ]
  },
  {
   "cell_type": "markdown",
   "id": "71f11ca4",
   "metadata": {},
   "source": [
    "The function below will return and print the position information"
   ]
  },
  {
   "cell_type": "code",
   "execution_count": null,
   "id": "a03f42de",
   "metadata": {
    "scrolled": true
   },
   "outputs": [],
   "source": [
    "def get_all_positions(api_key_binance, api_key_bitmex, api_key_bybit, api_key_gate, api_key_huobi, api_key_kraken, api_key_okx, api_secret_binance, api_secret_bitmex, api_secret_bybit, api_secret_gate, api_secret_huobi, api_secret_kraken, api_secret_okx, api_pass_okx):\n",
    "    positions = []\n",
    "    errorCount = 0\n",
    "    total_USD = 0\n",
    "    for i in [binancePositions.all_positions(api_key_binance, api_secret_binance, 'Binance'), bitmexPostions.get_usdt_pos(api_key_bitmex, api_secret_bitmex, 'Bitmex')['assets'], bybitPositions.get_usdt_pos(api_key_bybit, api_secret_bybit, 'Bybit')['assets'], gatePositions.get_usdt_pos(api_key_gate, api_secret_gate, 'Gate')['assets'], huobiPositions.get_all_positions(api_key_huobi, api_secret_huobi, 'Huobi'), krakenPositions.get_usdt_pos(api_key_kraken, api_secret_kraken, 'Kraken'), okxPositions.get_usdt_pos(api_key_okx, api_secret_okx, api_pass_okx, 'OKX')['assets']]:\n",
    "        if str(type(i)) == \"<class 'dict'>\":\n",
    "            total_USD += i['USD Value']\n",
    "            positions.append(i)\n",
    "        else:\n",
    "            for j in i:\n",
    "                if str(type(j)) == \"<class 'dict'>\":\n",
    "                    total_USD += j['USD Value']\n",
    "                    positions.append(j)\n",
    "                else:\n",
    "                    for k in j:\n",
    "                        if str(type(k)) == \"<class 'dict'>\":\n",
    "                            total_USD += k['USD Value']\n",
    "                            positions.append(k)\n",
    "                        else:\n",
    "                            errorCount += 1\n",
    "    return positions\n",
    "\n",
    "df = get_all_positions(config.binance_key, config.bitmex_key, config.bybit_key, config.gate_key, config.huobi_key, config.kraken_futures_key, config.okx_key, config.binance_secret, config.bitmex_secret, config.bybit_secret, config.gate_secret, config.huobi_secret, config.kraken_futures_secret, config.okx_secret, config.okx_passphrase)\n",
    "sf.displayDataFrame(df, True)"
   ]
  },
  {
   "cell_type": "markdown",
   "id": "7a214559",
   "metadata": {},
   "source": [
    "The below Functions will return all the balances"
   ]
  },
  {
   "cell_type": "code",
   "execution_count": null,
   "id": "4b374980",
   "metadata": {},
   "outputs": [],
   "source": [
    "def get_total_balance():\n",
    "    total_total_balance = 0\n",
    "    sub_total_balance = 0\n",
    "    total_total_balance +=  totalBalance_OKX.okx_wallet_total(config.okx_key, config.okx_secret, config.okx_passphrase, 'OKX')['total']\n",
    "    sub_total_balance +=  totalBalance_OKX.okx_wallet_total(config.okx_key_sub, config.okx_secret_sub, config.okx_pass_sub, 'OKX-sub')['total']\n",
    "    total_total_balance += totalBalance_Binance.total_binance_balance(config.binance_key, config.binance_secret, 'Binance')['total']\n",
    "    sub_total_balance += totalBalance_Binance.total_binance_balance(config.binance_sub_key, config.binance_sub_secret, 'Binance-sub')['total']\n",
    "    total_total_balance += totalBalance_Kraken.total_kraken_balance(config.kraken_futures_key, config.kraken_futures_secret, config.kraken_key, config.kraken_secret)['total']\n",
    "    total_total_balance += totalBalance_Huobi.total_huobi_balance(config.huobi_key, config.huobi_secret, config.huobi_spot_id, 'Huobi')['total']\n",
    "    sub_total_balance += totalBalance_Huobi.total_huobi_balance(config.huobi_key_sub, config.huobi_secret_sub, config.huobi_spot_id_sub, 'Huobi-sub')['total']\n",
    "    total_total_balance += totalBalance_Bitmex.bitmex_wallet(config.bitmex_key, config.bitmex_secret)['total']\n",
    "    total_total_balance += totalBalance_Gate.gate_total_balance(config.gate_key, config.gate_secret)['total']\n",
    "    total_total_balance += totalBalance_Bittrex.bittrex_balance(config.bittrex_key, config.bittrex_secret)['total']\n",
    "    total_total_balance += totalBalance_Bybit.total_bybit_balance(config.bybit_key, config.bybit_secret, 'Bybit')['total']\n",
    "    sub_total_balance += totalBalance_Bybit.total_bybit_balance(config.bybit_sub_key, config.bybit_sub_secret, 'Bybit-sub')['total']\n",
    "    overall_total = sub_total_balance + total_total_balance\n",
    "    print('\\nTotal balance across exchanges: ', round(total_total_balance, 2), '\\nTotal with sub accounts: ', round(sub_total_balance, 2), '\\nOverall total: ', round(overall_total, 2))\n",
    "\n",
    "get_total_balance()"
   ]
  },
  {
   "cell_type": "markdown",
   "id": "54d9b466",
   "metadata": {},
   "source": [
    "The below function will return a list of assets"
   ]
  },
  {
   "cell_type": "code",
   "execution_count": null,
   "id": "1a18ba3c",
   "metadata": {},
   "outputs": [],
   "source": [
    "def get_all_assets():\n",
    "    all_coins = []\n",
    "\n",
    "    for i in [totalBalance_OKX.okx_wallet_total(config.okx_key, config.okx_secret, config.okx_passphrase, 'OKX')['coins'], totalBalance_OKX.okx_wallet_total(config.okx_key_sub, config.okx_secret_sub, config.okx_pass_sub, 'OKX-sub')['coins'], totalBalance_Binance.total_binance_balance(config.binance_key, config.binance_secret, 'Binance')['coins'], totalBalance_Binance.total_binance_balance(config.binance_sub_key, config.binance_sub_secret, 'Binance-sub')['coins'], totalBalance_Kraken.total_kraken_balance(config.kraken_futures_key, config.kraken_futures_secret, config.kraken_key, config.kraken_secret)['coins'], totalBalance_Huobi.total_huobi_balance(config.huobi_key, config.huobi_secret, config.huobi_spot_id, 'Huobi')['coins'], totalBalance_Huobi.total_huobi_balance(config.huobi_key_sub, config.huobi_secret_sub, config.huobi_spot_id_sub, 'Huobi-sub')['coins'], totalBalance_Bitmex.bitmex_wallet(config.bitmex_key, config.bitmex_secret)['coins'], totalBalance_Gate.gate_total_balance(config.gate_key, config.gate_secret)['coins'], totalBalance_Bittrex.bittrex_balance(config.bittrex_key, config.bittrex_secret)['coins'], totalBalance_Bybit.total_bybit_balance(config.bybit_key, config.bybit_secret, 'Bybit')['coins'], totalBalance_Bybit.total_bybit_balance(config.bybit_sub_key, config.bybit_sub_secret, 'Bybit-sub')['coins']]:\n",
    "        if str(type(i)) == \"<class 'dict'>\":\n",
    "            all_coins.append(i)\n",
    "        else:\n",
    "            for j in i:\n",
    "                if str(type(j)) == \"<class 'dict'>\":\n",
    "                    all_coins.append(j)\n",
    "                else:\n",
    "                    for k in j:\n",
    "                        if str(type(k)) == \"<class 'dict'>\":\n",
    "                            all_coins.append(k)\n",
    "                        else:\n",
    "                            print('gone to deep bud')\n",
    "\n",
    "    print(pd.DataFrame(all_coins))\n",
    "    return all_coins\n",
    "\n",
    "df= get_all_assets()\n",
    "sf.displayDataFrame(df, True)"
   ]
  },
  {
   "cell_type": "markdown",
   "id": "20d53a26",
   "metadata": {},
   "source": [
    "The below function will return a split of assets and usd"
   ]
  },
  {
   "cell_type": "code",
   "execution_count": null,
   "id": "28efcc03",
   "metadata": {},
   "outputs": [],
   "source": [
    "total_assets = []\n",
    "\n",
    "assets = ab.get_all_assets()\n",
    "positions = ap.get_all_positions(config.binance_key, config.bitmex_key, config.bybit_key, config.gate_key, config.huobi_key, config.kraken_futures_key, config.okx_key, config.binance_secret, config.bitmex_secret, config.bybit_secret, config.gate_secret, config.huobi_secret, config.kraken_futures_secret, config.okx_secret, config.okx_passphrase)\n",
    "\n",
    "#sf.saveExcel('positionings.xlsx', positions)\n",
    "\n",
    "for i in positions:\n",
    "    total_assets.append(i)\n",
    "for i in assets:\n",
    "    total_assets.append(i)\n",
    "\n",
    "sorted_assets = sorted(total_assets, key=lambda d: d['Coin'])\n",
    "\n",
    "#sf.displayDataFrame(sorted_assets)\n",
    "\n",
    "breakAsset = {\n",
    "    'Coin':'BREAK',\n",
    "    'USD Value':0,\n",
    "    'QTY':0\n",
    "}\n",
    "\n",
    "sorted_assets.append(breakAsset)\n",
    "\n",
    "#sf.saveExcel('sorted_assets.xlsx', sorted_assets)\n",
    "\n",
    "coinUSD = 0\n",
    "coinQTY = 0\n",
    "cond_assets = []\n",
    "cond_currency = []\n",
    "\n",
    "for i in sorted_assets:\n",
    "    try:\n",
    "        if preCoin == i['Coin']:\n",
    "            coinUSD += i['USD Value']\n",
    "            coinQTY += i['QTY']\n",
    "        else:\n",
    "            if preCoin == 'USD' or preCoin == 'USDT' or preCoin == 'USDC' or preCoin == 'EUR' or preCoin == 'BUSD':\n",
    "                currency = {\n",
    "                    'Coin':preCoin,\n",
    "                    'QTY':coinQTY,\n",
    "                    'USD Value':coinUSD\n",
    "                }\n",
    "                cond_currency.append(currency)\n",
    "            else:\n",
    "                asset = {\n",
    "                    'Coin':preCoin,\n",
    "                    'QTY':coinQTY,\n",
    "                    'USD Value':coinUSD\n",
    "                }\n",
    "                cond_assets.append(asset)\n",
    "            preCoin = i['Coin']\n",
    "            coinUSD = i['USD Value']\n",
    "            coinQTY = i['QTY']\n",
    "    except:\n",
    "        preCoin = i['Coin']\n",
    "        coinUSD += i['USD Value']\n",
    "        coinQTY += i['QTY']\n",
    "\n",
    "#sf.saveExcel('cond_assets.xlsx', cond_assets)\n",
    "\n",
    "print(pd.DataFrame(cond_assets), '\\n#####\\n', pd.DataFrame(cond_currency))"
   ]
  },
  {
   "cell_type": "markdown",
   "id": "7dd69d1d",
   "metadata": {},
   "source": [
    "The below function will return leaverage info"
   ]
  },
  {
   "cell_type": "code",
   "execution_count": null,
   "id": "f7bf96c9",
   "metadata": {},
   "outputs": [],
   "source": [
    "def Leverage():\n",
    "    \n",
    "    asset_bal = ab.leaverageAssets()\n",
    "    bbdf = sf.displayDataFrame(asset_bal, False)\n",
    "    asset_pos = ap.get_leverageValue()\n",
    "    bpdf = sf.displayDataFrame(asset_pos, False)\n",
    "\n",
    "    levers = []\n",
    "\n",
    "    for i in bbdf:\n",
    "        for j in bpdf:\n",
    "            if i['Account'] == j['Account'] and i['exchange'] == j['exchange']:\n",
    "                try:\n",
    "                    lever = {\n",
    "                        'Exchange':i['exchange'],\n",
    "                        'Account':i['Account'],\n",
    "                        'Wallet USD Value':i['USD Value'],\n",
    "                        'Position Absolute':j['absolute'],\n",
    "                        'Position USD Value':j['USD Value'],\n",
    "                        'Leverage':float(j['absolute'])/float(i['USD Value'])\n",
    "                    }\n",
    "                    levers.append(lever)\n",
    "                except:\n",
    "                    lever = {\n",
    "                        'Exchange':i['exchange'],\n",
    "                        'Account':i['Account'],\n",
    "                        'Wallet USD Value':i['USD Value'],\n",
    "                        'Position Absolute':j['absolute'],\n",
    "                        'Position USD Value':j['USD Value'],\n",
    "                        'Leverage':0\n",
    "                    }\n",
    "                    levers.append(lever)\n",
    "\n",
    "    \n",
    "    return levers\n",
    "\n",
    "x = Leverage()\n",
    "sf.displayDataFrame(x, True)"
   ]
  }
 ],
 "metadata": {
  "kernelspec": {
   "display_name": "Python 3 (ipykernel)",
   "language": "python",
   "name": "python3"
  },
  "language_info": {
   "codemirror_mode": {
    "name": "ipython",
    "version": 3
   },
   "file_extension": ".py",
   "mimetype": "text/x-python",
   "name": "python",
   "nbconvert_exporter": "python",
   "pygments_lexer": "ipython3",
   "version": "3.9.16"
  },
  "widgets": {
   "application/vnd.jupyter.widget-state+json": {
    "state": {},
    "version_major": 2,
    "version_minor": 0
   }
  }
 },
 "nbformat": 4,
 "nbformat_minor": 5
}
